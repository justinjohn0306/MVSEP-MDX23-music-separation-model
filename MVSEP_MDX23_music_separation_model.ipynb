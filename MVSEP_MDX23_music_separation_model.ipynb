{
  "nbformat": 4,
  "nbformat_minor": 0,
  "metadata": {
    "colab": {
      "provenance": [],
      "gpuType": "T4"
    },
    "kernelspec": {
      "name": "python3",
      "display_name": "Python 3"
    },
    "language_info": {
      "name": "python"
    },
    "accelerator": "GPU",
    "gpuClass": "standard"
  },
  "cells": [
    {
      "cell_type": "code",
      "execution_count": null,
      "metadata": {
        "cellView": "form",
        "id": "9jZkUrpD3bpC"
      },
      "outputs": [],
      "source": [
        "#@markdown # Install MVSEP-MDX23\n",
        "!git clone https://github.com/justinjohn0306/MVSEP-MDX23-music-separation-model\n",
        "%cd MVSEP-MDX23-music-separation-model\n",
        "!pip install -r requirements.txt"
      ]
    },
    {
      "cell_type": "code",
      "source": [
        "#@markdown # Mount gdrive\n",
        "from google.colab import drive\n",
        "drive.mount('/content/drive')"
      ],
      "metadata": {
        "cellView": "form",
        "id": "LGuVdzL_4iEb"
      },
      "execution_count": null,
      "outputs": []
    },
    {
      "cell_type": "code",
      "source": [
        "#@markdown # Infer\n",
        "input_audio = \"/content/drive/MyDrive/MVSEP/test.mp4\"  #@param {type:\"string\"}\n",
        "\n",
        "chunk_size = 200000 #@param {type:\"integer\"}\n",
        "\n",
        "output_folder = \"/content/drive/MyDrive/results\"  #@param {type:\"string\"}\n",
        "\n",
        "\n",
        "!python inference.py --input_audio {input_audio} --output_folder {output_folder} --chunk_size {chunk_size}"
      ],
      "metadata": {
        "cellView": "form",
        "id": "6_zLdZbK3oEc"
      },
      "execution_count": null,
      "outputs": []
    }
  ]
}